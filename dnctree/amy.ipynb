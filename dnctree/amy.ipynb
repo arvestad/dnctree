{
 "cells": [
  {
   "cell_type": "markdown",
   "metadata": {},
   "source": [
    "## Imports"
   ]
  },
  {
   "cell_type": "code",
   "execution_count": 4,
   "metadata": {},
   "outputs": [],
   "source": [
    "import random\n",
    "from pprint import pprint\n",
    "from pathlib import Path\n",
    "\n",
    "import pandas as pd\n",
    "\n",
    "from itertools import product\n",
    "import itertools\n",
    "\n",
    "from matplotlib import pyplot as plt\n",
    "\n",
    "\n",
    "import Levenshtein as lev\n",
    "from Levenshtein import distance as levdist\n",
    "from Levenshtein import hamming as hamming"
   ]
  },
  {
   "cell_type": "markdown",
   "metadata": {},
   "source": [
    "## Import own things"
   ]
  },
  {
   "cell_type": "code",
   "execution_count": 5,
   "metadata": {},
   "outputs": [],
   "source": [
    "from tree import Tree\n",
    "import partialdistancematrix\n",
    "# import init_module    # init_module was a copy of __init__.py used for accessing dnc_tree"
   ]
  },
  {
   "cell_type": "code",
   "execution_count": 6,
   "metadata": {},
   "outputs": [],
   "source": [
    "%load_ext autoreload\n",
    "%autoreload 2"
   ]
  },
  {
   "cell_type": "markdown",
   "metadata": {},
   "source": [
    "## Copy of `connect_the_trees`\n",
    "\n",
    "Copied the function from `__init__.py` so that we can use it here."
   ]
  },
  {
   "cell_type": "code",
   "execution_count": 159,
   "metadata": {},
   "outputs": [],
   "source": [
    "def connect_the_trees(subtrees, connecting_node):\n",
    "    '''\n",
    "    Merge the subtrees. They are sharing a unique vertex, so it is guaranteed to connect the subtrees.\n",
    "    '''\n",
    "    first_tree = subtrees[0]\n",
    "    for t in subtrees[1:]:\n",
    "        first_tree.merge(t, connecting_node)\n",
    "    first_tree.set_start_node(connecting_node)\n",
    "    return first_tree"
   ]
  },
  {
   "cell_type": "markdown",
   "metadata": {},
   "source": [
    "## Center vertex"
   ]
  },
  {
   "cell_type": "code",
   "execution_count": 7,
   "metadata": {},
   "outputs": [],
   "source": [
    "def get_edge_weight(tree: Tree, edge_weights, edge):\n",
    "    \"\"\"\n",
    "    edge=(x, y) is the directed edge from vertex x to y.\n",
    "    Returns the length of the longest, simple path from a leaf to y such that the\n",
    "    last edge in the path is (x, y), that is, reaching y via x.\n",
    "\n",
    "    The function uses memoization to avoid recomputing the same edge weight\n",
    "    multiple times. It makes recursive calls to itself. Computer edge weights\n",
    "    are stored in the dictionary edge_weights.\n",
    "    \"\"\"\n",
    "    if edge in edge_weights:\n",
    "        return edge_weights[edge]\n",
    "    x, y = edge\n",
    "    neighbors = tree.adjacencies[x]\n",
    "    if len(neighbors) == 1:  # x is a leaf.\n",
    "        edge_weights[edge] = 1  # The edge (x,y) itself.\n",
    "    else:\n",
    "        #    n2   n1\n",
    "        #      \\ /\n",
    "        # n3 -- x --- y\n",
    "        #      / \\\n",
    "        #    n4   n5\n",
    "        edge_weights[edge] = 1 + max(\n",
    "            get_edge_weight(tree, edge_weights, (n, x)) for n in neighbors if n != y\n",
    "        )\n",
    "    return edge_weights[edge]"
   ]
  },
  {
   "cell_type": "code",
   "execution_count": 8,
   "metadata": {},
   "outputs": [],
   "source": [
    "def get_weights(tree: Tree):\n",
    "    \"\"\"\n",
    "    Returns two dictionaries: vertex_weights and edge_weights.\n",
    "    vertex_weights[v] is the length of the longest, simple path from a leaf to v.\n",
    "    edge_weights[(x,y)] is the length of the longest, simple path from a leaf to y\n",
    "    such that the last edge in the path is (x, y).\n",
    "\n",
    "    The edge weights are returned for visualization purposes and may be omitted later.\n",
    "    \"\"\"\n",
    "    vertex_weights = {}\n",
    "    edge_weights = {}\n",
    "    for v, neighbors in tree.adjacencies.items():\n",
    "        vertex_weights[v] = max(\n",
    "            get_edge_weight(tree, edge_weights, (n, v)) for n in neighbors\n",
    "        )\n",
    "    return vertex_weights"
   ]
  },
  {
   "cell_type": "code",
   "execution_count": 9,
   "metadata": {},
   "outputs": [],
   "source": [
    "def get_center_vertex(tree: Tree):\n",
    "    \"\"\"\n",
    "    Returns the center vertex of the tree.\n",
    "    \"\"\"\n",
    "    vertex_weights = get_weights(tree)\n",
    "    return min(vertex_weights, key=vertex_weights.get)  # Break ties arbitrarily."
   ]
  },
  {
   "cell_type": "markdown",
   "metadata": {},
   "source": [
    "## Clades and path weights from center vertex"
   ]
  },
  {
   "cell_type": "code",
   "execution_count": 10,
   "metadata": {},
   "outputs": [],
   "source": [
    "def get_path_weights_via_edge(tree: Tree, dm, edge):\n",
    "    \"\"\"\n",
    "    For a given edge (x, y), the function returns a dictionary of path weights\n",
    "    for leaves that can be reached when going from x via y.\n",
    "    Example:\n",
    "        Suppose that a leaf f can be reached from x via y (along a simple path).\n",
    "        Suppose the sum of the edge weights on the simple path from x to f is 100.\n",
    "        Then the returned dictionary will contain the key f with value 100.\n",
    "    \"\"\"\n",
    "    x, y = edge\n",
    "    xy_weight = dm.get(x, y)\n",
    "    y_neighbors = tree.adjacencies[y]\n",
    "    if len(y_neighbors) == 1:\n",
    "        # y is a leaf.\n",
    "        return {y: xy_weight}\n",
    "    else:\n",
    "        # y has other neighbors n1, n2 in addition to x.\n",
    "        #        n1\n",
    "        #       /\n",
    "        # x -- y\n",
    "        #       \\\n",
    "        #        n2\n",
    "        path_weights = {}\n",
    "        for n in y_neighbors:\n",
    "            if n != x:\n",
    "                for leaf, weight in get_path_weights_via_edge(tree, dm, (y, n)).items():\n",
    "                    path_weights[leaf] = weight + xy_weight\n",
    "        return path_weights"
   ]
  },
  {
   "cell_type": "code",
   "execution_count": 11,
   "metadata": {},
   "outputs": [],
   "source": [
    "def get_clades_with_taxa_dists_to_center(tree: Tree, dm, split_vertex):\n",
    "    \"\"\"\n",
    "    Returns a list of dictionaries, one for each edge leaving the split vertex.\n",
    "    The dictionary associated with the edge e leaving the split vertex contains\n",
    "    all leaves that can be reached from the split vertex via e. A leaf is mapped\n",
    "    to the sum of the edge weights on the simple path from the split vertex to\n",
    "    the leaf.\n",
    "\n",
    "    In particular, if the split vertex is the center vertex of our constructed tree,\n",
    "    there will be three dictionaries, each one representing a clade.\n",
    "    \"\"\"\n",
    "    neighbors = tree.adjacencies[split_vertex]\n",
    "    return [get_path_weights_via_edge(tree, dm, (split_vertex, n)) for n in neighbors]"
   ]
  },
  {
   "cell_type": "markdown",
   "metadata": {},
   "source": [
    "## Neighbor joining\n",
    "\n",
    "Different from the version in `__init__.py` as this one calculates the edge weights, adding them to the distance matrix."
   ]
  },
  {
   "cell_type": "code",
   "execution_count": 13,
   "metadata": {},
   "outputs": [],
   "source": [
    "def nj_selection_function(dm, current_leaves):\n",
    "    def sum_distances(a):\n",
    "        sum_for_a = 0\n",
    "        for b in current_leaves:\n",
    "            if a != b:\n",
    "                sum_for_a += dm.get(a, b)\n",
    "        return sum_for_a\n",
    "\n",
    "    n_minus_2 = len(current_leaves) - 2\n",
    "    Q_ij_min = n_minus_2 * dm.get(\n",
    "        current_leaves[0], current_leaves[1]\n",
    "    )  # Arbitrary but safe starting value that won't be chosen.\n",
    "    best_so_far = None\n",
    "    for x, y in itertools.combinations(current_leaves, 2):\n",
    "        sum_distances_x = sum_distances(x)\n",
    "        sum_distances_y = sum_distances(y)\n",
    "        Q_ij = n_minus_2 * dm.get(x, y) - sum_distances_x - sum_distances_y\n",
    "        if best_so_far is None or Q_ij < Q_ij_min:\n",
    "            Q_ij_min = Q_ij\n",
    "            best_so_far = (x, y, sum_distances_x, sum_distances_y)\n",
    "\n",
    "    return best_so_far\n",
    "\n",
    "\n",
    "def dnc_neighborjoining(dm, taxa, verbose=[]):\n",
    "    \"\"\"\n",
    "    An implementation of NJ meant to compute base cases in dnctree.\n",
    "\n",
    "    dm:       a PartialDistanceMatrix instance\n",
    "    taxa:     a list of identifiers (part of dm) to infer the tree for\n",
    "    verbose:  boolean, whether to print extra info to stderr\n",
    "    \"\"\"\n",
    "    t = Tree()\n",
    "    if len(taxa) == 1:\n",
    "        t.add_vertex(taxa[0])\n",
    "        return t\n",
    "    elif len(taxa) == 2:\n",
    "        t.add_edge(taxa[0], taxa[1])\n",
    "        ######### Possibly add distance in dm for the single edge\n",
    "        return t\n",
    "    else:\n",
    "        current_leaves = taxa[:]  # Slicing out a copy\n",
    "        while len(current_leaves) > 3:\n",
    "            x, y, sum_x_to_others, sum_y_to_others = nj_selection_function(\n",
    "                dm, current_leaves\n",
    "            )\n",
    "            # if verbose:\n",
    "            #     print(f'Joining {x} and {y}', file=sys.stderr)\n",
    "            other_taxa = current_leaves[:]\n",
    "            other_taxa.remove(x)\n",
    "            other_taxa.remove(y)\n",
    "            new_v = dm.create_representative_vertex(x, y, other_taxa)\n",
    "\n",
    "            d_x_newv = 0.5 * dm.get(x, y) + (1 / (2 * (len(current_leaves) - 2))) * (\n",
    "                sum_x_to_others - sum_y_to_others\n",
    "            )\n",
    "            d_y_newv = dm.get(x, y) - d_x_newv\n",
    "            dm.set(x, new_v, d_x_newv)\n",
    "            dm.set(y, new_v, d_y_newv)\n",
    "\n",
    "            other_taxa.append(new_v)\n",
    "            t.add_edge(x, new_v)\n",
    "            t.add_edge(y, new_v)\n",
    "            current_leaves = other_taxa\n",
    "\n",
    "        c = dm.create_unique_vertex_id()\n",
    "        for leaf in current_leaves:\n",
    "            t.add_edge(leaf, c)\n",
    "        t.set_start_node(c)\n",
    "        x, y, z = current_leaves\n",
    "        d_xc = 0.5 * dm.get(x, y) + (1 / 2) * (dm.get(x, z) - dm.get(y, z))\n",
    "        d_yc = dm.get(x, y) - d_xc\n",
    "        d_zc = dm.get(x, z) - d_xc\n",
    "        dm._dm[c] = dict()\n",
    "        dm.set(x, c, d_xc)\n",
    "        dm.set(y, c, d_yc)\n",
    "        dm.set(z, c, d_zc)\n",
    "        return t"
   ]
  },
  {
   "cell_type": "markdown",
   "metadata": {},
   "source": [
    "## Mock MSA\n",
    "\n",
    "Generates random strings and the distance method returns the Hamming distance."
   ]
  },
  {
   "cell_type": "code",
   "execution_count": 14,
   "metadata": {},
   "outputs": [],
   "source": [
    "def random_string(length, alphabet):\n",
    "    return \"\".join([random.choice(alphabet) for _ in range(length)])"
   ]
  },
  {
   "cell_type": "code",
   "execution_count": 15,
   "metadata": {},
   "outputs": [],
   "source": [
    "class MockMSA:\n",
    "    def __init__(self, n_taxa=10, taxa_length=10, alphabet=\"ab\"):\n",
    "        \"\"\"\n",
    "        Create (up to) n_taxa random strings of length taxa_length over specified alphabet.\n",
    "        \"\"\"\n",
    "        taxa_set = set(random_string(taxa_length, alphabet) for _ in range(n_taxa))\n",
    "        self.taxa_dict = {f\"T_{i}\": taxon for i, taxon in enumerate(taxa_set)}\n",
    "        self._taxa = list(self.taxa_dict.keys())\n",
    "\n",
    "    def can_retrieve_distances(self) -> bool:\n",
    "        return True\n",
    "\n",
    "    def distance(self, taxon1, taxon2):\n",
    "        return float(hamming(self.taxa_dict[taxon1], self.taxa_dict[taxon2]))\n",
    "\n",
    "    def taxa(self):\n",
    "        return self._taxa\n",
    "\n",
    "    def distance_matrix(self):\n",
    "        \"\"\"\n",
    "        Not needed but for visualisation and debugging purposes.\n",
    "        \"\"\"\n",
    "        df = pd.DataFrame(index=self.taxa(), columns=self.taxa())\n",
    "        for taxon1, taxon2 in product(self.taxa(), self.taxa()):\n",
    "            df.loc[taxon1, taxon2] = self.distance(taxon1, taxon2)\n",
    "        return df"
   ]
  },
  {
   "cell_type": "markdown",
   "metadata": {},
   "source": [
    "## Output nodes, edges and weights to be used with *csacademy* graph editor"
   ]
  },
  {
   "cell_type": "code",
   "execution_count": 16,
   "metadata": {},
   "outputs": [],
   "source": [
    "def write_graph_data(t: Tree, dm: partialdistancematrix.PartialDistanceMatrix):\n",
    "    \"\"\"\n",
    "    Write the tree with edge weights to a file. Each line is of the form:\n",
    "    node1 node2 weight\n",
    "    This data can be plotted with `https://csacademy.com/app/graph_editor/`\n",
    "    \"\"\"\n",
    "    lines = []\n",
    "\n",
    "    for node, edges in t.adjacencies.items():\n",
    "        for neighbour in edges:\n",
    "            # print(f\"{node} {neighbour}\")\n",
    "            if node in dm._dm and neighbour in dm._dm[node]:\n",
    "                weight = f\"{dm._dm[node][neighbour]:.2f}\"\n",
    "            else:\n",
    "                weight = \"\"\n",
    "            lines.append(f\"{node} {neighbour} {weight}\".strip())\n",
    "\n",
    "    print(f\"Number of lines: {len(lines)}\")\n",
    "    text = \"\\n\".join(lines)\n",
    "    _ = (Path.home() / \"temp\" / \"dnc_neighborjoining.txt\").write_text(text)"
   ]
  },
  {
   "cell_type": "markdown",
   "metadata": {},
   "source": [
    "## Try Neighbour-Joining\n",
    "\n",
    "Only experimenting with the updated NJ algorithm above."
   ]
  },
  {
   "cell_type": "code",
   "execution_count": 132,
   "metadata": {},
   "outputs": [
    {
     "name": "stdout",
     "output_type": "stream",
     "text": [
      "Number of lines: 74\n",
      "Center vertex: #15\n",
      "{'#6': 2.0, '#7': 1.15625, '#8': 1.109375, '#13': 0.34375, '#14': 0.328125, '#16': 0.578125, '#17': 0.390625}\n",
      "[{'T_10': 3.832638888888889,\n",
      "  'T_12': 3.210267857142857,\n",
      "  'T_13': 4.054861111111111,\n",
      "  'T_14': 3.81875,\n",
      "  'T_18': 3.6650997899159665,\n",
      "  'T_2': 4.530555555555555,\n",
      "  'T_6': 3.576864495798319,\n",
      "  'T_9': 4.419444444444444},\n",
      " {'T_19': 2.90625, 'T_5': 2.75},\n",
      " {'T_0': 3.3117897727272725,\n",
      "  'T_1': 4.722842261904762,\n",
      "  'T_11': 3.1100852272727275,\n",
      "  'T_15': 4.282366071428571,\n",
      "  'T_16': 3.765625,\n",
      "  'T_17': 3.453125,\n",
      "  'T_3': 3.4225852272727275,\n",
      "  'T_4': 3.7830528846153846,\n",
      "  'T_7': 4.056175595238095,\n",
      "  'T_8': 4.013822115384615}]\n"
     ]
    }
   ],
   "source": [
    "msa = MockMSA(n_taxa=20, taxa_length=10, alphabet=\"ab\")\n",
    "dm = partialdistancematrix.PartialDistanceMatrix(msa, \"Distance function dummy\")\n",
    "t = dnc_neighborjoining(dm, msa.taxa())\n",
    "write_graph_data(t, dm)\n",
    "c = get_center_vertex(t)\n",
    "print(f\"Center vertex: {c}\")\n",
    "print(dm._dm[c])\n",
    "clades = get_clades_and_path_weights(t, dm, c)\n",
    "pprint(clades)\n",
    "# display(msa.distance_matrix())"
   ]
  },
  {
   "cell_type": "markdown",
   "metadata": {},
   "source": [
    "## The new DNC algorithm\n",
    "\n",
    "To do: split into multiple functions that can be tested individually."
   ]
  },
  {
   "cell_type": "code",
   "execution_count": 215,
   "metadata": {},
   "outputs": [],
   "source": [
    "def dnc_tree_2(dm, taxa, base_case_size=5, core_size=5):\n",
    "    if len(taxa) <= base_case_size:\n",
    "        return dnc_neighborjoining(dm, taxa)\n",
    "    else:\n",
    "        core_taxa = random.sample(taxa, core_size) if len(taxa) > core_size else taxa\n",
    "        non_core_taxa = set(taxa) - set(core_taxa)\n",
    "        core_tree = dnc_neighborjoining(dm, core_taxa)\n",
    "        center_vertex = get_center_vertex(core_tree)\n",
    "\n",
    "        clades = get_clades_with_taxa_dists_to_center(core_tree, dm, center_vertex)\n",
    "\n",
    "        # Map each taxon in core to its clade.\n",
    "        # Also set the inferred distance from each taxon in core to the center.\n",
    "        taxon_to_clade = {}\n",
    "        for i in (0, 1, 2):\n",
    "            for taxon, dist in clades[i].items():\n",
    "                taxon_to_clade[taxon] = i\n",
    "                dm.set(taxon, center_vertex, dist)\n",
    "\n",
    "        # Assign non-core taxa to clades.\n",
    "\n",
    "        # Map w -> sum_{x in C} d(w, x)\n",
    "        sum_dist_w_to_core = {\n",
    "            w: sum(dm.get(w, x) for x in core_taxa) for w in core_taxa\n",
    "        }\n",
    "\n",
    "        # Map (v, i) -> sum_{x in C_i} d(v, x)\n",
    "        sum_dist_v_clade = {}\n",
    "        for i in (0, 1, 2):\n",
    "            for v in non_core_taxa:\n",
    "                sum_dist_v_clade[(v, i)] = sum(dm.get(v, x) for x in clades[i])\n",
    "\n",
    "        k = len(core_taxa)\n",
    "        for v in non_core_taxa:\n",
    "            smallest_q_so_far = None\n",
    "            for w in core_taxa:\n",
    "                q = (\n",
    "                    (k - 2) * dm.get(v, w)\n",
    "                    - sum_dist_v_clade[(v, 0)]\n",
    "                    - sum_dist_v_clade[(v, 1)]\n",
    "                    - sum_dist_v_clade[(v, 2)]\n",
    "                    - sum_dist_w_to_core[w]\n",
    "                )\n",
    "                if smallest_q_so_far is None or q < smallest_q_so_far:\n",
    "                    smallest_q_so_far = q\n",
    "                    taxon_to_clade[v] = taxon_to_clade[w]  # w is v's new mate.\n",
    "\n",
    "        # Esimate distance between each non-core taxon and the center vertex.\n",
    "\n",
    "        for v in non_core_taxa:\n",
    "            # Indices a and b are the two clades that v is not in.\n",
    "            a, b = {0: (1, 2), 1: (0, 2), 2: (0, 1)}[taxon_to_clade[v]]\n",
    "            n_taxa_in_a_and_b = len(clades[a]) + len(clades[b])\n",
    "            # Estimate distance from v to center.\n",
    "            sum_dist_estimates = (\n",
    "                sum(dm.get(v, w) for w in clades[a])\n",
    "                + sum(dm.get(v, w) for w in clades[b])\n",
    "                - sum(clades[a].values())  # Could be calculated once and stored.\n",
    "                - sum(clades[b].values())\n",
    "            )\n",
    "            # The distance is the average of the estimates.\n",
    "            dm.set(v, center_vertex, sum_dist_estimates / n_taxa_in_a_and_b)\n",
    "\n",
    "        # Finally ensure that the distance between center vertex and iteself is set.\n",
    "        dm.set(center_vertex, center_vertex, 0)\n",
    "\n",
    "        subtaxa_sets = [[center_vertex], [center_vertex], [center_vertex]]\n",
    "        for v in taxa:\n",
    "            subtaxa_sets[taxon_to_clade[v]].append(v)\n",
    "\n",
    "        # Recurse and get three subtrees, each sharing the center vertex.\n",
    "\n",
    "        subtrees = []\n",
    "        for subtaxa in subtaxa_sets:\n",
    "            subtrees.append(\n",
    "                dnc_tree_2(\n",
    "                    dm,\n",
    "                    subtaxa,\n",
    "                    base_case_size=base_case_size,\n",
    "                    core_size=core_size,\n",
    "                )\n",
    "            )\n",
    "\n",
    "    # Return the subtrees merged on the center vertex.\n",
    "    return connect_the_trees(subtrees, center_vertex)"
   ]
  },
  {
   "cell_type": "markdown",
   "metadata": {},
   "source": [
    "## Testing"
   ]
  },
  {
   "cell_type": "code",
   "execution_count": 220,
   "metadata": {},
   "outputs": [],
   "source": [
    "msa = MockMSA(n_taxa=30, taxa_length=10, alphabet=\"ab\")\n",
    "\n",
    "dm = partialdistancematrix.PartialDistanceMatrix(msa, \"Distance function dummy\")\n",
    "t_dnc2 = dnc_tree_2(dm, msa.taxa(), base_case_size=3, core_size=5)\n",
    "\n",
    "dm = partialdistancematrix.PartialDistanceMatrix(msa, \"Distance function dummy\")\n",
    "t_nj = dnc_neighborjoining(dm, msa.taxa())"
   ]
  },
  {
   "cell_type": "code",
   "execution_count": null,
   "metadata": {},
   "outputs": [],
   "source": []
  },
  {
   "cell_type": "code",
   "execution_count": 219,
   "metadata": {},
   "outputs": [
    {
     "name": "stdout",
     "output_type": "stream",
     "text": [
      "Number of lines: 74\n"
     ]
    }
   ],
   "source": [
    "write_graph_data(t, dm)"
   ]
  },
  {
   "cell_type": "code",
   "execution_count": 178,
   "metadata": {},
   "outputs": [],
   "source": [
    "t = connect_the_trees([t1, t2, t3], \"#7\")"
   ]
  },
  {
   "cell_type": "code",
   "execution_count": 179,
   "metadata": {},
   "outputs": [
    {
     "name": "stdout",
     "output_type": "stream",
     "text": [
      "Number of lines: 22\n"
     ]
    }
   ],
   "source": [
    "write_graph_data(t, dm)"
   ]
  },
  {
   "cell_type": "code",
   "execution_count": 155,
   "metadata": {},
   "outputs": [],
   "source": [
    "t = dnc_tree_2(dm, sub_taxa_sets[0], base_case_size=5, core_size=5)"
   ]
  },
  {
   "cell_type": "code",
   "execution_count": 150,
   "metadata": {},
   "outputs": [
    {
     "data": {
      "text/plain": [
       "[['#7', 'T_6'], ['#7', 'T_3', 'T_8'], ['#7', '#2', 'T_0', 'T_2']]"
      ]
     },
     "execution_count": 150,
     "metadata": {},
     "output_type": "execute_result"
    }
   ],
   "source": [
    "t"
   ]
  },
  {
   "cell_type": "code",
   "execution_count": 148,
   "metadata": {},
   "outputs": [
    {
     "data": {
      "text/plain": [
       "{'#2': ['#3'],\n",
       " '#3': ['#2', 'T_7', '#5'],\n",
       " 'T_7': ['#3'],\n",
       " 'T_1': ['#4'],\n",
       " '#4': ['T_1', 'T_4', '#5'],\n",
       " 'T_4': ['#4'],\n",
       " 'T_5': ['#5'],\n",
       " '#5': ['T_5', '#3', '#4']}"
      ]
     },
     "execution_count": 148,
     "metadata": {},
     "output_type": "execute_result"
    }
   ],
   "source": [
    "t.adjacencies"
   ]
  },
  {
   "cell_type": "code",
   "execution_count": 108,
   "metadata": {},
   "outputs": [
    {
     "data": {
      "text/plain": [
       "{'T_2': ['#6'],\n",
       " '#6': ['T_2', 'T_9', '#7'],\n",
       " 'T_9': ['#6'],\n",
       " '#2': ['#7'],\n",
       " '#7': ['#2', '#6', '#8'],\n",
       " 'T_0': ['#8'],\n",
       " '#8': ['T_0', 'T_1', '#7'],\n",
       " 'T_1': ['#8']}"
      ]
     },
     "execution_count": 108,
     "metadata": {},
     "output_type": "execute_result"
    }
   ],
   "source": [
    "t.adjacencies"
   ]
  },
  {
   "cell_type": "code",
   "execution_count": 65,
   "metadata": {},
   "outputs": [
    {
     "name": "stdout",
     "output_type": "stream",
     "text": [
      "{'#2': ['#4'], '#4': ['#2', 'T_2', 'T_9'], 'T_2': ['#4'], 'T_9': ['#4']}\n"
     ]
    }
   ],
   "source": [
    "print(t.adjacencies)"
   ]
  },
  {
   "cell_type": "code",
   "execution_count": 49,
   "metadata": {},
   "outputs": [
    {
     "data": {
      "text/plain": [
       "{'#2': ['T_9'], 'T_9': ['#2']}"
      ]
     },
     "execution_count": 49,
     "metadata": {},
     "output_type": "execute_result"
    }
   ],
   "source": [
    "t.adjacencies"
   ]
  },
  {
   "cell_type": "code",
   "execution_count": 25,
   "metadata": {},
   "outputs": [],
   "source": [
    "class TestMSA:\n",
    "    def __init__(self):\n",
    "        self._taxa = [str(i) for i in range(1,12)]\n",
    "\n",
    "    def can_retrieve_distances(self) -> bool:\n",
    "        return True\n",
    "\n",
    "    def distance(self, taxon1, taxon2):\n",
    "        return float(int(taxon1) * int(taxon2))\n",
    "\n",
    "    def taxa(self):\n",
    "        return self._taxa\n",
    "\n",
    "    def distance_matrix(self):\n",
    "        \"\"\"\n",
    "        Not needed but for visualisation and debugging purposes.\n",
    "        \"\"\"\n",
    "        df = pd.DataFrame(index=self.taxa(), columns=self.taxa())\n",
    "        for taxon1, taxon2 in product(self.taxa(), self.taxa()):\n",
    "            df.loc[taxon1, taxon2] = self.distance(taxon1, taxon2)\n",
    "        return df"
   ]
  },
  {
   "cell_type": "code",
   "execution_count": 26,
   "metadata": {},
   "outputs": [],
   "source": [
    "msa = TestMSA()\n",
    "dm = partialdistancematrix.PartialDistanceMatrix(msa, \"Distance function dummy\")\n",
    "\n",
    "core_taxa = [\"1\", \"2\", \"3\", \"4\", \"5\", \"6\", \"7\", \"8\"]\n",
    "non_core_taxa = [\"9\", \"10\", \"11\"]\n",
    "\n",
    "t = Tree()\n",
    "edges = \"\"\"\n",
    "1 a 5\n",
    "2 a 6\n",
    "a b 7\n",
    "8 b 5\n",
    "b c 2\n",
    "c d 1\n",
    "d 3 3\n",
    "d 4 2\n",
    "c e 8\n",
    "e 7 9\n",
    "e f 5\n",
    "f 5 4\n",
    "f 6 3\n",
    "\"\"\"\n",
    "\n",
    "for line in edges.strip().split(\"\\n\"):\n",
    "    x, y, weight = line.split()\n",
    "    t.add_edge(x, y)\n",
    "    if x not in dm._dm:\n",
    "        dm._dm[x] = {}\n",
    "    if y not in dm._dm:\n",
    "        dm._dm[y] = {}\n",
    "    dm.set(x, y, float(weight))"
   ]
  },
  {
   "cell_type": "code",
   "execution_count": 27,
   "metadata": {},
   "outputs": [
    {
     "name": "stdout",
     "output_type": "stream",
     "text": [
      "[['#1', '5', '9'],\n",
      " ['#1', '1', '3', '4', '6', '7', '10', '11'],\n",
      " ['#1', '2', '8']]\n",
      "----\n",
      "{'1': 1,\n",
      " '10': 1,\n",
      " '11': 1,\n",
      " '2': 2,\n",
      " '3': 1,\n",
      " '4': 1,\n",
      " '5': 0,\n",
      " '6': 1,\n",
      " '7': 1,\n",
      " '8': 2,\n",
      " '9': 0}\n"
     ]
    }
   ],
   "source": [
    "t = dnc_tree_2(dm, msa.taxa(), base_case_size=5, core_size=5)"
   ]
  },
  {
   "cell_type": "code",
   "execution_count": 243,
   "metadata": {},
   "outputs": [
    {
     "name": "stdout",
     "output_type": "stream",
     "text": [
      "Number of lines: 14\n",
      "Center vertex: #5\n",
      "{'T_12': 2.75, '#3': 2.75, '#4': 2.25}\n"
     ]
    }
   ],
   "source": [
    "t = dnc_neighborjoining(dm, core_taxa)\n"
   ]
  },
  {
   "cell_type": "code",
   "execution_count": 290,
   "metadata": {},
   "outputs": [
    {
     "name": "stdout",
     "output_type": "stream",
     "text": [
      "Number of lines: 26\n",
      "Center vertex: c\n"
     ]
    }
   ],
   "source": [
    "write_graph_data(t, dm)\n",
    "center = get_center_vertex(t)\n",
    "print(f\"Center vertex: {center}\")"
   ]
  },
  {
   "cell_type": "code",
   "execution_count": 347,
   "metadata": {},
   "outputs": [
    {
     "name": "stdout",
     "output_type": "stream",
     "text": [
      "[{'1': 14.0, '2': 15.0, '8': 7.0},\n",
      " {'3': 4.0, '4': 3.0},\n",
      " {'5': 17.0, '6': 16.0, '7': 17.0}]\n"
     ]
    }
   ],
   "source": [
    "clades = get_clades_with_taxa_dists_to_center(t, dm, center)\n",
    "\n",
    "# Map each taxon in core to its clade.\n",
    "# Also set the inferred distance from each taxon in core to the center.\n",
    "taxon_to_clade = {}\n",
    "for i in (0, 1, 2):\n",
    "    for taxon, dist in clades[i].items():\n",
    "        taxon_to_clade[taxon] = i\n",
    "        dm.set(taxon, center, dist)\n",
    "\n",
    "pprint(clades)"
   ]
  },
  {
   "cell_type": "markdown",
   "metadata": {},
   "source": [
    "$$Q(v, w) = (n - 2) d(v, w) - \\sum_{x=1}^n d(v, x) - \\sum_{x=1}^n d(w, x)$$\n",
    "\n",
    "\n",
    "$C = \\text{core vertices}$, $|C| = k$,\n",
    "\n",
    "$A = C \\cup \\{v\\}$, $|A| = n = k + 1$\n",
    "\n",
    "$$Q(v, w) = (k + 1 - 2) d(v, w) - \\sum_{x \\in A} d(v, x) - \\sum_{x \\in A} d(w, x)$$\n",
    "\n",
    "$$Q(v, w) = (k - 1) d(v, w) - \\sum_{x \\in C} d(v, x) - d(v,v) - \\sum_{x \\in C} d(w, x) - d(w, v)$$\n",
    "\n",
    "$$Q(v, w) = (k - 2) d(v, w) - \\sum_{x \\in C} d(v, x) - \\sum_{x \\in C} d(w, x)$$\n",
    "\n",
    "$$Q(v, w) = (k - 2) d(v, w) - \\sum_{x \\in C_0} d(v, x) - \\sum_{x \\in C_1} d(v, x) - \\sum_{x \\in C_2} d(v, x) - \\sum_{x \\in C} d(w, x)$$\n",
    "\n",
    "where $C_0, C_1, C_2$ are the taxa from each clade, respectively."
   ]
  },
  {
   "cell_type": "code",
   "execution_count": 292,
   "metadata": {},
   "outputs": [],
   "source": [
    "# Map w -> sum_{x in C} d(w, x)\n",
    "sum_dist_w = {w: sum(dm.get(w, x) for x in core_taxa) for w in core_taxa}\n",
    "\n",
    "# Map (v, i) -> sum_{x in C_i} d(v, x)\n",
    "sum_dist_v_clade = {}\n",
    "for i in (0, 1, 2):\n",
    "    for v in non_core_taxa:\n",
    "        sum_dist_v_clade[(v, i)] = sum(dm.get(v, x) for x in clades[i])\n",
    "\n",
    "k = len(core_taxa)\n",
    "for v in non_core_taxa:\n",
    "    smallest_q_so_far = None\n",
    "    for w in core_taxa:\n",
    "        q = (\n",
    "            (k - 2) * dm.get(v, w)\n",
    "            - sum_dist_v_clade[(v, 0)]\n",
    "            - sum_dist_v_clade[(v, 1)]\n",
    "            - sum_dist_v_clade[(v, 2)]\n",
    "            - sum_dist_w[w]\n",
    "        )\n",
    "        if smallest_q_so_far is None or q < smallest_q_so_far:\n",
    "            smallest_q_so_far = q\n",
    "            taxon_to_clade[v] = taxon_to_clade[w]  # w is v's new mate."
   ]
  },
  {
   "cell_type": "code",
   "execution_count": 350,
   "metadata": {},
   "outputs": [
    {
     "name": "stdout",
     "output_type": "stream",
     "text": [
      "{'1': 0, '2': 0, '8': 0, '3': 1, '4': 1, '7': 2, '5': 2, '6': 2, '9': 2, '10': 1, '11': 0}\n"
     ]
    }
   ],
   "source": [
    "taxon_to_clade[\"9\"] = 2\n",
    "taxon_to_clade[\"10\"] = 1\n",
    "taxon_to_clade[\"11\"] = 0\n",
    "\n",
    "print(taxon_to_clade)"
   ]
  },
  {
   "cell_type": "markdown",
   "metadata": {},
   "source": [
    "clades is a list.\n",
    "\n",
    "first element of clades is a dict representing clade 0.\n",
    "\n",
    "This dict maps taxon x in clade 0 to the path weight from x to center vetrex.\n",
    "\n"
   ]
  },
  {
   "cell_type": "code",
   "execution_count": 357,
   "metadata": {},
   "outputs": [],
   "source": [
    "# Esimate distance each v in non-core taxa to the center vertex.\n",
    "\n",
    "for v in non_core_taxa:\n",
    "    # Indices a and b are the two clades that v is not in.\n",
    "    a, b = {0: (1, 2), 1: (0, 2), 2: (0, 1)}[taxon_to_clade[v]]\n",
    "    n_taxa_in_a_and_b = len(clades[a]) + len(clades[b])\n",
    "    # Estimate distance from v to center.\n",
    "    sum_dist_estimates = (\n",
    "        sum(dm.get(v, w) for w in clades[a])\n",
    "        + sum(dm.get(v, w) for w in clades[b])\n",
    "        - sum(clades[a].values())  # Can be calculated once and stored.\n",
    "        - sum(clades[b].values())\n",
    "    )\n",
    "    # The distance is the average of the estimates.\n",
    "    dm.set(v, center, sum_dist_estimates / n_taxa_in_a_and_b)"
   ]
  },
  {
   "cell_type": "code",
   "execution_count": 300,
   "metadata": {},
   "outputs": [
    {
     "data": {
      "text/plain": [
       "23.8"
      ]
     },
     "execution_count": 300,
     "metadata": {},
     "output_type": "execute_result"
    }
   ],
   "source": [
    "(9*(8+1+2)-sum(clades[0].values())+9*(3+4)-sum(clades[1].values())) / 5"
   ]
  },
  {
   "cell_type": "code",
   "execution_count": 302,
   "metadata": {},
   "outputs": [
    {
     "data": {
      "text/plain": [
       "43.6"
      ]
     },
     "execution_count": 302,
     "metadata": {},
     "output_type": "execute_result"
    }
   ],
   "source": [
    "dm.get(\"11\", \"c\")"
   ]
  },
  {
   "cell_type": "code",
   "execution_count": 387,
   "metadata": {},
   "outputs": [
    {
     "data": {
      "text/plain": [
       "43.6"
      ]
     },
     "execution_count": 387,
     "metadata": {},
     "output_type": "execute_result"
    }
   ],
   "source": [
    "dm.get(\"11\", \"c\")"
   ]
  },
  {
   "cell_type": "markdown",
   "metadata": {},
   "source": [
    "# Old stuff\n",
    "\n",
    "## Plot tree to visualise center vertex calculations"
   ]
  },
  {
   "cell_type": "code",
   "execution_count": 378,
   "metadata": {},
   "outputs": [],
   "source": [
    "msa = MockMSA(n_taxa=10, taxa_length=10, alphabet=\"ab\")\n",
    "dm = partialdistancematrix.PartialDistanceMatrix(msa, \"Distance function dummy\")\n",
    "t = dnc_neighborjoining(dm, msa.taxa())\n",
    "\n",
    "c = get_center_vertex(t)"
   ]
  },
  {
   "cell_type": "code",
   "execution_count": 386,
   "metadata": {},
   "outputs": [],
   "source": [
    "def write_tree(t):\n",
    "    lines = []\n",
    "    for v, neighbors in t.adjacencies.items():\n",
    "        for n in neighbors:\n",
    "            lines.append(f\"{v} {n}\")\n",
    "\n",
    "    text = \"\\n\".join(lines)\n",
    "    (Path.home() / \"temp\" / \"dnc_neighborjoining.txt\").write_text(text)"
   ]
  },
  {
   "cell_type": "code",
   "execution_count": null,
   "metadata": {},
   "outputs": [],
   "source": [
    "def write_tree_with_center_vertex(t):\n",
    "    lines = []\n",
    "    for v, neighbors in t.adjacencies.items():\n",
    "        for n in neighbors:\n",
    "            v = \"Center\" if v == c else v\n",
    "            n = \"Center\" if n == c else n\n",
    "            lines.append(f\"{v} {n}\")\n",
    "\n",
    "    text = \"\\n\".join(lines)\n",
    "    (Path.home() / \"temp\" / \"dnc_neighborjoining.txt\").write_text(text)"
   ]
  },
  {
   "cell_type": "code",
   "execution_count": 365,
   "metadata": {},
   "outputs": [
    {
     "data": {
      "text/plain": [
       "{'a': 1, 'b': 3, 'c': 3, 'd': 2, 'e': 1, 'f': 1}"
      ]
     },
     "execution_count": 365,
     "metadata": {},
     "output_type": "execute_result"
    }
   ],
   "source": [
    "# Create dict mapping letter a-f to a random integer in [0, 100).\n",
    "d = {chr(i): random.randint(0, 4) for i in range(ord(\"a\"), ord(\"f\") + 1)}\n",
    "d"
   ]
  },
  {
   "cell_type": "code",
   "execution_count": 367,
   "metadata": {},
   "outputs": [
    {
     "data": {
      "text/plain": [
       "'a'"
      ]
     },
     "execution_count": 367,
     "metadata": {},
     "output_type": "execute_result"
    }
   ],
   "source": [
    "# return key in d with the smallest value.\n",
    "min(d, key=d.get)"
   ]
  },
  {
   "cell_type": "code",
   "execution_count": 342,
   "metadata": {},
   "outputs": [],
   "source": [
    "vertex_weights, edge_weights = get_weights(t)"
   ]
  },
  {
   "cell_type": "code",
   "execution_count": 351,
   "metadata": {},
   "outputs": [],
   "source": [
    "plot_edges = {}\n",
    "for x, y in edge_weights:\n",
    "    if (x, y) in plot_edges or (y, x) in plot_edges:\n",
    "        pass\n",
    "    else:\n",
    "        weight = f\"{edge_weights[(x, y)]}/{edge_weights[(y, x)]}\"\n",
    "        plot_edges[(x, y)] = weight"
   ]
  },
  {
   "cell_type": "code",
   "execution_count": 352,
   "metadata": {},
   "outputs": [
    {
     "name": "stdout",
     "output_type": "stream",
     "text": [
      "T_8/7 #0/6 1/7\n",
      "T_2/6 #5/5 1/6\n",
      "T_9/5 #4/4 1/5\n",
      "T_3/7 #1/6 1/7\n",
      "T_6/7 #1/6 1/7\n",
      "#1/6 #3/5 2/6\n",
      "T_4/7 #2/6 1/7\n",
      "T_5/7 #2/6 1/7\n",
      "#2/6 #3/5 2/6\n",
      "#3/5 #4/4 3/5\n",
      "#4/4 #7/4 4/4\n",
      "T_0/6 #6/5 1/6\n",
      "T_1/6 #6/5 1/6\n",
      "#6/5 #7/4 2/5\n",
      "#7/4 #5/5 5/3\n",
      "#5/5 #0/6 6/2\n",
      "#0/6 T_7/7 7/1\n"
     ]
    }
   ],
   "source": [
    "for (x, y), weight in plot_edges.items():\n",
    "    print(f\"{x}/{vertex_weights[x]} {y}/{vertex_weights[y]} {weight}\")"
   ]
  },
  {
   "cell_type": "markdown",
   "metadata": {},
   "source": [
    "# DNC tree"
   ]
  },
  {
   "cell_type": "code",
   "execution_count": 17,
   "metadata": {},
   "outputs": [
    {
     "name": "stdout",
     "output_type": "stream",
     "text": [
      "\td(#0, T_3) = 2.8\n",
      "\td(#0, T_7) = 1.83\n",
      "\td(#0, T_6) = 2.67\n",
      "\td(#1, T_9) = 1.15\n",
      "\td(#1, T_2) = 1.83\n",
      "\td(#1, #0) = -0.02\n"
     ]
    }
   ],
   "source": [
    "msa = MockMSA(n_taxa=10, taxa_length=10, alphabet=\"ab\")\n",
    "dm = partialdistancematrix.PartialDistanceMatrix(msa, \"Distance function dummy\")\n",
    "\n",
    "t = init_module.dnc_tree(\n",
    "    dm,\n",
    "    msa.taxa(),\n",
    "    max_n_attempts=100,\n",
    "    max_clade_size=0.5,\n",
    "    base_case_size=5,\n",
    "    first_triple=None,\n",
    "    verbose=[],\n",
    ")"
   ]
  },
  {
   "cell_type": "code",
   "execution_count": 18,
   "metadata": {},
   "outputs": [
    {
     "name": "stdout",
     "output_type": "stream",
     "text": [
      "Number of lines: 34\n"
     ]
    }
   ],
   "source": [
    "write_graph_data(t, dm)"
   ]
  },
  {
   "cell_type": "code",
   "execution_count": null,
   "metadata": {},
   "outputs": [],
   "source": []
  }
 ],
 "metadata": {
  "kernelspec": {
   "display_name": "dnc",
   "language": "python",
   "name": "python3"
  },
  "language_info": {
   "codemirror_mode": {
    "name": "ipython",
    "version": 3
   },
   "file_extension": ".py",
   "mimetype": "text/x-python",
   "name": "python",
   "nbconvert_exporter": "python",
   "pygments_lexer": "ipython3",
   "version": "3.10.11"
  },
  "orig_nbformat": 4
 },
 "nbformat": 4,
 "nbformat_minor": 2
}
